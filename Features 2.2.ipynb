{
 "cells": [
  {
   "cell_type": "code",
   "execution_count": 14,
   "metadata": {},
   "outputs": [],
   "source": [
    "import re"
   ]
  },
  {
   "cell_type": "code",
   "execution_count": 15,
   "metadata": {},
   "outputs": [],
   "source": [
    "token_dict={}\n",
    "\n",
    "with open(\"pre-processed-data.csv\", \"r\", encoding=\"utf8\", errors=\"ignore\") as f:\n",
    "\n",
    "    k=f.readline()\n",
    "\n",
    "    while(True):\n",
    "\n",
    "        k=f.readline()\n",
    "        \n",
    "        if len(k)==0:\n",
    "            break\n",
    "\n",
    "        _,x,k=k.split(\",\",2)\n",
    "\n",
    "        k=re.sub('[\\d|\\_]', '', k)\n",
    "\n",
    "        token_dict[x]=k"
   ]
  },
  {
   "cell_type": "code",
   "execution_count": 16,
   "metadata": {},
   "outputs": [],
   "source": [
    "from sklearn.feature_extraction.text import TfidfVectorizer\n",
    "\n",
    "tfidf = TfidfVectorizer(sublinear_tf=True, stop_words='english')\n",
    "tfs = tfidf.fit_transform(token_dict.values())\n",
    "\n",
    "feature_names = tfidf.get_feature_names_out()"
   ]
  },
  {
   "cell_type": "code",
   "execution_count": 17,
   "metadata": {},
   "outputs": [],
   "source": [
    "import pandas as pd\n",
    "\n",
    "dense=tfs.todense()\n",
    "denselist = dense.tolist()\n",
    "df = pd.DataFrame(denselist, columns=feature_names, index= list(token_dict.keys()))\n",
    "\n",
    "impwords=[]\n",
    "\n",
    "for key in token_dict:\n",
    "    \n",
    "    s = pd.Series(df.loc[key])\n",
    "    impwords=impwords+s[s > 0.0001].sort_values(ascending=False)[:100].keys().tolist()"
   ]
  },
  {
   "cell_type": "code",
   "execution_count": 18,
   "metadata": {},
   "outputs": [],
   "source": [
    "feature_names= feature_names.tolist()\n",
    "\n",
    "nimpwords=[]\n",
    "\n",
    "for word in feature_names:\n",
    "   if word not in impwords:\n",
    "       nimpwords.append(word)\n",
    "\n",
    "df.drop(nimpwords, axis=1, inplace=True)"
   ]
  }
 ],
 "metadata": {
  "kernelspec": {
   "display_name": "Python 3",
   "language": "python",
   "name": "python3"
  },
  "language_info": {
   "codemirror_mode": {
    "name": "ipython",
    "version": 3
   },
   "file_extension": ".py",
   "mimetype": "text/x-python",
   "name": "python",
   "nbconvert_exporter": "python",
   "pygments_lexer": "ipython3",
   "version": "3.11.4"
  }
 },
 "nbformat": 4,
 "nbformat_minor": 2
}
